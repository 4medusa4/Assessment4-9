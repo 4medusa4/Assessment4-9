{
 "cells": [
  {
   "cell_type": "code",
   "execution_count": 23,
   "metadata": {},
   "outputs": [],
   "source": [
    "import os\n",
    "from PIL import Image\n",
    "import numpy as np\n",
    "from sklearn.preprocessing import LabelEncoder\n",
    "\n",
    "# width and height for resizing\n",
    "width = 224\n",
    "height = 224\n",
    "\n",
    "# directory where images are stored\n",
    "base_dir = 'D:/NIBM/Machine Learning/Assessment_4/9'\n",
    "\n",
    "# store preprocessed images and labels\n",
    "preprocessed_images = []\n",
    "labels = []\n",
    "\n",
    "# check all directories in the base directory\n",
    "for dirname in os.listdir(base_dir):\n",
    "    # check over all images in the directory\n",
    "    for filename in os.listdir(os.path.join(base_dir, dirname)):\n",
    "        if filename.endswith('.jpg'):  # or '.png' or '.jpeg' or whatever your image format is\n",
    "            # load the image\n",
    "            img = Image.open(os.path.join(base_dir, dirname, filename))\n",
    "\n",
    "            # resize the image\n",
    "            img = img.resize((width, height))\n",
    "\n",
    "            # convert the image to a NumPy array\n",
    "            img_array = np.array(img)\n",
    "\n",
    "            # normalize the pixel values\n",
    "            img_array = img_array / 255.0\n",
    "\n",
    "            # add the preprocessed image and label to the lists\n",
    "            preprocessed_images.append(img_array)\n",
    "            labels.append(dirname)\n",
    "\n",
    "# convert the lists to NumPy arrays\n",
    "preprocessed_images = np.array(preprocessed_images)\n",
    "labels = np.array(labels)\n",
    "\n",
    "# convert labels to numerical values\n",
    "le = LabelEncoder()\n",
    "labels = le.fit_transform(labels)\n"
   ]
  },
  {
   "cell_type": "code",
   "execution_count": 24,
   "metadata": {},
   "outputs": [
    {
     "name": "stdout",
     "output_type": "stream",
     "text": [
      "Epoch 1/10\n",
      "26/26 [==============================] - 26s 973ms/step - loss: 1.7083 - accuracy: 0.3366\n",
      "Epoch 2/10\n",
      "26/26 [==============================] - 27s 1s/step - loss: 0.9693 - accuracy: 0.5780\n",
      "Epoch 3/10\n",
      "26/26 [==============================] - 26s 1s/step - loss: 0.6788 - accuracy: 0.7265\n",
      "Epoch 4/10\n",
      "26/26 [==============================] - 25s 958ms/step - loss: 0.4873 - accuracy: 0.8416\n",
      "Epoch 5/10\n",
      "26/26 [==============================] - 25s 965ms/step - loss: 0.2437 - accuracy: 0.9245\n",
      "Epoch 6/10\n",
      "26/26 [==============================] - 27s 1s/step - loss: 0.0843 - accuracy: 0.9814\n",
      "Epoch 7/10\n",
      "26/26 [==============================] - 27s 1s/step - loss: 0.0420 - accuracy: 0.9938\n",
      "Epoch 8/10\n",
      "26/26 [==============================] - 27s 1s/step - loss: 0.0498 - accuracy: 0.9913\n",
      "Epoch 9/10\n",
      "26/26 [==============================] - 27s 1s/step - loss: 0.0815 - accuracy: 0.9851\n",
      "Epoch 10/10\n",
      "26/26 [==============================] - 25s 970ms/step - loss: 0.0276 - accuracy: 0.9950\n"
     ]
    },
    {
     "data": {
      "text/plain": [
       "<keras.src.callbacks.History at 0x107a481c640>"
      ]
     },
     "execution_count": 24,
     "metadata": {},
     "output_type": "execute_result"
    }
   ],
   "source": [
    "import tensorflow as tf\n",
    "from tensorflow.keras.models import Sequential\n",
    "from tensorflow.keras.layers import Conv2D, MaxPooling2D, Flatten, Dense\n",
    "\n",
    "num_classes = len(np.unique(labels))\n",
    "\n",
    "# define the model\n",
    "model = Sequential([\n",
    "    Conv2D(32, (3, 3), activation='relu', input_shape=(width, height, 3)),  # width, height should be the dimensions of your images\n",
    "    MaxPooling2D((2, 2)),\n",
    "    Conv2D(64, (3, 3), activation='relu'),\n",
    "    MaxPooling2D((2, 2)),\n",
    "    Conv2D(64, (3, 3), activation='relu'),\n",
    "    Flatten(),\n",
    "    Dense(64, activation='relu'),\n",
    "    Dense(num_classes)  # num_classes should be the number of classes in your dataset\n",
    "])\n",
    "\n",
    "# compile the model\n",
    "model.compile(optimizer='adam',\n",
    "              loss=tf.keras.losses.SparseCategoricalCrossentropy(from_logits=True),\n",
    "              metrics=['accuracy'])\n",
    "\n",
    "# train the model\n",
    "model.fit(preprocessed_images, labels, epochs=10)  # preprocessed_images should be your preprocessed images, labels should be your labels\n"
   ]
  },
  {
   "cell_type": "code",
   "execution_count": 25,
   "metadata": {},
   "outputs": [
    {
     "name": "stdout",
     "output_type": "stream",
     "text": [
      "Epoch 1/10\n",
      "21/21 [==============================] - 22s 1s/step - loss: 0.0043 - accuracy: 1.0000 - val_loss: 0.0052 - val_accuracy: 1.0000\n",
      "Epoch 2/10\n",
      "21/21 [==============================] - 23s 1s/step - loss: 0.0013 - accuracy: 1.0000 - val_loss: 0.0050 - val_accuracy: 0.9938\n",
      "Epoch 3/10\n",
      "21/21 [==============================] - 23s 1s/step - loss: 7.8378e-04 - accuracy: 1.0000 - val_loss: 0.0061 - val_accuracy: 0.9938\n",
      "Epoch 4/10\n",
      "21/21 [==============================] - 25s 1s/step - loss: 4.1797e-04 - accuracy: 1.0000 - val_loss: 0.0094 - val_accuracy: 0.9938\n",
      "Epoch 5/10\n",
      "21/21 [==============================] - 24s 1s/step - loss: 2.7352e-04 - accuracy: 1.0000 - val_loss: 0.0113 - val_accuracy: 0.9938\n",
      "Epoch 6/10\n",
      "21/21 [==============================] - 27s 1s/step - loss: 2.0373e-04 - accuracy: 1.0000 - val_loss: 0.0102 - val_accuracy: 0.9938\n",
      "Epoch 7/10\n",
      "21/21 [==============================] - 27s 1s/step - loss: 1.5162e-04 - accuracy: 1.0000 - val_loss: 0.0158 - val_accuracy: 0.9938\n",
      "Epoch 8/10\n",
      "21/21 [==============================] - 30s 1s/step - loss: 1.0719e-04 - accuracy: 1.0000 - val_loss: 0.0197 - val_accuracy: 0.9938\n",
      "Epoch 9/10\n",
      "21/21 [==============================] - 29s 1s/step - loss: 7.8869e-05 - accuracy: 1.0000 - val_loss: 0.0228 - val_accuracy: 0.9938\n",
      "Epoch 10/10\n",
      "21/21 [==============================] - 32s 2s/step - loss: 6.4264e-05 - accuracy: 1.0000 - val_loss: 0.0204 - val_accuracy: 0.9938\n"
     ]
    }
   ],
   "source": [
    "\n",
    "# train the model\n",
    "history = model.fit(preprocessed_images, labels, epochs=10, validation_split=0.2)\n",
    "\n"
   ]
  },
  {
   "cell_type": "code",
   "execution_count": 26,
   "metadata": {},
   "outputs": [
    {
     "name": "stdout",
     "output_type": "stream",
     "text": [
      "6/6 - 2s - loss: 0.0022 - accuracy: 1.0000 - 2s/epoch - 318ms/step\n",
      "\n",
      "Test accuracy: 1.0\n"
     ]
    }
   ],
   "source": [
    "\n",
    "\n",
    "from sklearn.model_selection import train_test_split\n",
    "\n",
    "train_images, test_images, train_labels, test_labels = train_test_split(\n",
    "    preprocessed_images, labels, test_size=0.2, random_state=42\n",
    ")\n",
    "# evaluate the model\n",
    "test_loss, test_acc = model.evaluate(test_images, test_labels, verbose=2)\n",
    "\n",
    "\n",
    "print('\\nTest accuracy:',test_acc)"
   ]
  },
  {
   "cell_type": "code",
   "execution_count": 27,
   "metadata": {},
   "outputs": [
    {
     "name": "stderr",
     "output_type": "stream",
     "text": [
      "c:\\Users\\Imesha\\miniconda3\\envs\\nibm-ml\\lib\\site-packages\\keras\\src\\engine\\training.py:3000: UserWarning: You are saving your model as an HDF5 file via `model.save()`. This file format is considered legacy. We recommend using instead the native Keras format, e.g. `model.save('my_model.keras')`.\n",
      "  saving_api.save_model(\n"
     ]
    }
   ],
   "source": [
    "# assuming model is your trained model\n",
    "model.save('cw_classifier_model.h5')"
   ]
  }
 ],
 "metadata": {
  "kernelspec": {
   "display_name": "nibm-ml",
   "language": "python",
   "name": "python3"
  },
  "language_info": {
   "codemirror_mode": {
    "name": "ipython",
    "version": 3
   },
   "file_extension": ".py",
   "mimetype": "text/x-python",
   "name": "python",
   "nbconvert_exporter": "python",
   "pygments_lexer": "ipython3",
   "version": "3.8.18"
  }
 },
 "nbformat": 4,
 "nbformat_minor": 2
}
