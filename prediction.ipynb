{
 "cells": [
  {
   "cell_type": "code",
   "execution_count": 37,
   "metadata": {},
   "outputs": [],
   "source": [
    "from tensorflow.keras.models import load_model\n",
    "import numpy as np\n",
    "\n",
    "\n",
    "# Load the trained model\n",
    "model = load_model('cw_classifier_model.h5')\n",
    "\n",
    "def predict(image):\n",
    "    # Preprocess the image the same way you did for training\n",
    "    image = preprocess(image)\n",
    "\n",
    "    # Add an extra dimension for batch size\n",
    "    image = np.expand_dims(image, axis=0)\n",
    "\n",
    "    # Predict the class of the image\n",
    "    predictions = model.predict(image)\n",
    "\n",
    "    # Get the index of the class with the highest probability\n",
    "    predicted_class = np.argmax(predictions)\n",
    "\n",
    "    return predicted_class"
   ]
  },
  {
   "cell_type": "code",
   "execution_count": 38,
   "metadata": {},
   "outputs": [
    {
     "ename": "NameError",
     "evalue": "name 'load_img' is not defined",
     "output_type": "error",
     "traceback": [
      "\u001b[1;31m---------------------------------------------------------------------------\u001b[0m",
      "\u001b[1;31mNameError\u001b[0m                                 Traceback (most recent call last)",
      "Cell \u001b[1;32mIn[38], line 1\u001b[0m\n\u001b[1;32m----> 1\u001b[0m \u001b[43mpredict\u001b[49m\u001b[43m(\u001b[49m\u001b[38;5;124;43m'\u001b[39;49m\u001b[38;5;124;43mC:/Users/Imesha/Desktophumming_bird.jpg\u001b[39;49m\u001b[38;5;124;43m'\u001b[39;49m\u001b[43m)\u001b[49m\n",
      "Cell \u001b[1;32mIn[37], line 10\u001b[0m, in \u001b[0;36mpredict\u001b[1;34m(image)\u001b[0m\n\u001b[0;32m      8\u001b[0m \u001b[38;5;28;01mdef\u001b[39;00m \u001b[38;5;21mpredict\u001b[39m(image):\n\u001b[0;32m      9\u001b[0m     \u001b[38;5;66;03m# Preprocess the image the same way you did for training\u001b[39;00m\n\u001b[1;32m---> 10\u001b[0m     image \u001b[38;5;241m=\u001b[39m \u001b[43mpreprocess\u001b[49m\u001b[43m(\u001b[49m\u001b[43mimage\u001b[49m\u001b[43m)\u001b[49m\n\u001b[0;32m     12\u001b[0m     \u001b[38;5;66;03m# Add an extra dimension for batch size\u001b[39;00m\n\u001b[0;32m     13\u001b[0m     image \u001b[38;5;241m=\u001b[39m np\u001b[38;5;241m.\u001b[39mexpand_dims(image, axis\u001b[38;5;241m=\u001b[39m\u001b[38;5;241m0\u001b[39m)\n",
      "Cell \u001b[1;32mIn[31], line 6\u001b[0m, in \u001b[0;36mpreprocess\u001b[1;34m(image_path, target_size)\u001b[0m\n\u001b[0;32m      4\u001b[0m \u001b[38;5;28;01mdef\u001b[39;00m \u001b[38;5;21mpreprocess\u001b[39m(image_path, target_size\u001b[38;5;241m=\u001b[39m(\u001b[38;5;241m150\u001b[39m, \u001b[38;5;241m150\u001b[39m)):\n\u001b[0;32m      5\u001b[0m     \u001b[38;5;66;03m# Load the image from the path and resize it to the target size\u001b[39;00m\n\u001b[1;32m----> 6\u001b[0m     image \u001b[38;5;241m=\u001b[39m \u001b[43mload_img\u001b[49m(image_path, target_size\u001b[38;5;241m=\u001b[39mtarget_size)\n\u001b[0;32m      8\u001b[0m     \u001b[38;5;66;03m# Convert the image pixels to a numpy array\u001b[39;00m\n\u001b[0;32m      9\u001b[0m     image \u001b[38;5;241m=\u001b[39m img_to_array(image)\n",
      "\u001b[1;31mNameError\u001b[0m: name 'load_img' is not defined"
     ]
    }
   ],
   "source": [
    "predict('C:/Users/Imesha/Desktophumming_bird.jpg')"
   ]
  }
 ],
 "metadata": {
  "kernelspec": {
   "display_name": "nibm-ml",
   "language": "python",
   "name": "python3"
  },
  "language_info": {
   "codemirror_mode": {
    "name": "ipython",
    "version": 3
   },
   "file_extension": ".py",
   "mimetype": "text/x-python",
   "name": "python",
   "nbconvert_exporter": "python",
   "pygments_lexer": "ipython3",
   "version": "3.8.18"
  }
 },
 "nbformat": 4,
 "nbformat_minor": 2
}
