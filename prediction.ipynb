{
 "cells": [
  {
   "cell_type": "code",
   "execution_count": 21,
   "metadata": {},
   "outputs": [],
   "source": [
    "from PIL import Image\n",
    "import numpy as np\n",
    "\n",
    "def preprocess(image):\n",
    "    # resize the image\n",
    "    image = image.resize((224, 224))\n",
    "\n",
    "    # convert the image to a NumPy array\n",
    "    image = np.array(image)\n",
    "\n",
    "    # normalize the pixel values\n",
    "    image = image / 255.0\n",
    "    return image"
   ]
  },
  {
   "cell_type": "code",
   "execution_count": 22,
   "metadata": {},
   "outputs": [],
   "source": [
    "from tensorflow.keras.models import load_model\n",
    "import numpy as np\n",
    "\n",
    "# load the trained model\n",
    "model = load_model('cw_classifier_model.h5')\n",
    "\n",
    "def predict(image):\n",
    "    # preprocess the image\n",
    "    image = preprocess(image)\n",
    "\n",
    "    # add an extra dimension for batch size\n",
    "    image = np.expand_dims(image, axis=0)\n",
    "\n",
    "    # predict the class of the image\n",
    "    predictions = model.predict(image)\n",
    "\n",
    "    # get the index of the class with the highest probability\n",
    "    predicted_class = np.argmax(predictions)\n",
    "\n",
    "    return predicted_class"
   ]
  },
  {
   "cell_type": "code",
   "execution_count": 23,
   "metadata": {},
   "outputs": [
    {
     "name": "stdout",
     "output_type": "stream",
     "text": [
      "1/1 [==============================] - 0s 82ms/step\n",
      "2\n"
     ]
    }
   ],
   "source": [
    "image = Image.open('D:/NIBM/Machine Learning/Assessment_4/dog.jpeg')\n",
    "\n",
    "result = predict(image)\n",
    "print(result)"
   ]
  }
 ],
 "metadata": {
  "kernelspec": {
   "display_name": "nibm-ml",
   "language": "python",
   "name": "python3"
  },
  "language_info": {
   "codemirror_mode": {
    "name": "ipython",
    "version": 3
   },
   "file_extension": ".py",
   "mimetype": "text/x-python",
   "name": "python",
   "nbconvert_exporter": "python",
   "pygments_lexer": "ipython3",
   "version": "3.8.18"
  }
 },
 "nbformat": 4,
 "nbformat_minor": 2
}
